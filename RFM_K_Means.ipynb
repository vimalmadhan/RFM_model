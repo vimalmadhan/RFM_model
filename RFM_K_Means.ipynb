{
 "cells": [
  {
   "cell_type": "markdown",
   "id": "393e5555",
   "metadata": {},
   "source": [
    "### Importing the Necessary Libraries"
   ]
  },
  {
   "cell_type": "code",
   "execution_count": 90,
   "id": "1c134ce5",
   "metadata": {},
   "outputs": [],
   "source": [
    "import pandas as pd\n",
    "import numpy as np\n",
    "import matplotlib.pyplot as plt\n",
    "import seaborn as sns"
   ]
  },
  {
   "cell_type": "code",
   "execution_count": 91,
   "id": "585c9809",
   "metadata": {},
   "outputs": [
    {
     "data": {
      "text/html": [
       "<div>\n",
       "<style scoped>\n",
       "    .dataframe tbody tr th:only-of-type {\n",
       "        vertical-align: middle;\n",
       "    }\n",
       "\n",
       "    .dataframe tbody tr th {\n",
       "        vertical-align: top;\n",
       "    }\n",
       "\n",
       "    .dataframe thead th {\n",
       "        text-align: right;\n",
       "    }\n",
       "</style>\n",
       "<table border=\"1\" class=\"dataframe\">\n",
       "  <thead>\n",
       "    <tr style=\"text-align: right;\">\n",
       "      <th></th>\n",
       "      <th>Unnamed: 0</th>\n",
       "      <th>DocumentID</th>\n",
       "      <th>Date</th>\n",
       "      <th>SKU</th>\n",
       "      <th>Price</th>\n",
       "      <th>Discount</th>\n",
       "      <th>Customer</th>\n",
       "      <th>Quantity</th>\n",
       "    </tr>\n",
       "  </thead>\n",
       "  <tbody>\n",
       "    <tr>\n",
       "      <th>0</th>\n",
       "      <td>0</td>\n",
       "      <td>716</td>\n",
       "      <td>2019-09-23</td>\n",
       "      <td>1039</td>\n",
       "      <td>381.78</td>\n",
       "      <td>67.37254</td>\n",
       "      <td>1</td>\n",
       "      <td>1.0</td>\n",
       "    </tr>\n",
       "    <tr>\n",
       "      <th>1</th>\n",
       "      <td>1</td>\n",
       "      <td>716</td>\n",
       "      <td>2019-09-23</td>\n",
       "      <td>853</td>\n",
       "      <td>593.22</td>\n",
       "      <td>0.00034</td>\n",
       "      <td>1</td>\n",
       "      <td>1.0</td>\n",
       "    </tr>\n",
       "    <tr>\n",
       "      <th>2</th>\n",
       "      <td>2</td>\n",
       "      <td>716</td>\n",
       "      <td>2019-09-23</td>\n",
       "      <td>862</td>\n",
       "      <td>423.73</td>\n",
       "      <td>-0.00119</td>\n",
       "      <td>1</td>\n",
       "      <td>1.0</td>\n",
       "    </tr>\n",
       "    <tr>\n",
       "      <th>3</th>\n",
       "      <td>3</td>\n",
       "      <td>716</td>\n",
       "      <td>2019-09-23</td>\n",
       "      <td>868</td>\n",
       "      <td>201.70</td>\n",
       "      <td>35.58814</td>\n",
       "      <td>1</td>\n",
       "      <td>1.0</td>\n",
       "    </tr>\n",
       "    <tr>\n",
       "      <th>4</th>\n",
       "      <td>4</td>\n",
       "      <td>716</td>\n",
       "      <td>2019-09-23</td>\n",
       "      <td>2313</td>\n",
       "      <td>345.76</td>\n",
       "      <td>61.01966</td>\n",
       "      <td>1</td>\n",
       "      <td>1.0</td>\n",
       "    </tr>\n",
       "    <tr>\n",
       "      <th>5</th>\n",
       "      <td>5</td>\n",
       "      <td>716</td>\n",
       "      <td>2019-09-23</td>\n",
       "      <td>2355</td>\n",
       "      <td>406.78</td>\n",
       "      <td>101.69458</td>\n",
       "      <td>1</td>\n",
       "      <td>1.0</td>\n",
       "    </tr>\n",
       "    <tr>\n",
       "      <th>6</th>\n",
       "      <td>6</td>\n",
       "      <td>716</td>\n",
       "      <td>2019-09-23</td>\n",
       "      <td>2529</td>\n",
       "      <td>542.38</td>\n",
       "      <td>135.58610</td>\n",
       "      <td>1</td>\n",
       "      <td>1.0</td>\n",
       "    </tr>\n",
       "    <tr>\n",
       "      <th>7</th>\n",
       "      <td>7</td>\n",
       "      <td>460</td>\n",
       "      <td>2019-04-13</td>\n",
       "      <td>2361</td>\n",
       "      <td>13983.05</td>\n",
       "      <td>0.00000</td>\n",
       "      <td>460</td>\n",
       "      <td>6.0</td>\n",
       "    </tr>\n",
       "    <tr>\n",
       "      <th>8</th>\n",
       "      <td>8</td>\n",
       "      <td>461</td>\n",
       "      <td>2019-04-27</td>\n",
       "      <td>2723</td>\n",
       "      <td>30.00</td>\n",
       "      <td>0.00000</td>\n",
       "      <td>479</td>\n",
       "      <td>1.0</td>\n",
       "    </tr>\n",
       "    <tr>\n",
       "      <th>9</th>\n",
       "      <td>9</td>\n",
       "      <td>462</td>\n",
       "      <td>2019-05-30</td>\n",
       "      <td>655</td>\n",
       "      <td>2500.00</td>\n",
       "      <td>0.00000</td>\n",
       "      <td>26</td>\n",
       "      <td>1.0</td>\n",
       "    </tr>\n",
       "  </tbody>\n",
       "</table>\n",
       "</div>"
      ],
      "text/plain": [
       "   Unnamed: 0  DocumentID        Date   SKU     Price   Discount  Customer  \\\n",
       "0           0         716  2019-09-23  1039    381.78   67.37254         1   \n",
       "1           1         716  2019-09-23   853    593.22    0.00034         1   \n",
       "2           2         716  2019-09-23   862    423.73   -0.00119         1   \n",
       "3           3         716  2019-09-23   868    201.70   35.58814         1   \n",
       "4           4         716  2019-09-23  2313    345.76   61.01966         1   \n",
       "5           5         716  2019-09-23  2355    406.78  101.69458         1   \n",
       "6           6         716  2019-09-23  2529    542.38  135.58610         1   \n",
       "7           7         460  2019-04-13  2361  13983.05    0.00000       460   \n",
       "8           8         461  2019-04-27  2723     30.00    0.00000       479   \n",
       "9           9         462  2019-05-30   655   2500.00    0.00000        26   \n",
       "\n",
       "   Quantity  \n",
       "0       1.0  \n",
       "1       1.0  \n",
       "2       1.0  \n",
       "3       1.0  \n",
       "4       1.0  \n",
       "5       1.0  \n",
       "6       1.0  \n",
       "7       6.0  \n",
       "8       1.0  \n",
       "9       1.0  "
      ]
     },
     "execution_count": 91,
     "metadata": {},
     "output_type": "execute_result"
    }
   ],
   "source": [
    "df = pd.read_csv('C:\\\\Users\\\\vimal\\\\Downloads\\\\archive\\\\file_out.csv')\n",
    "df.head(10)"
   ]
  },
  {
   "cell_type": "markdown",
   "id": "94dc658e",
   "metadata": {},
   "source": [
    "# Details of DocumentID , Date , SKU\n",
    "### DocumentID : Transaction ID, unique for each invoice\n",
    "### Date : Date of sales\n",
    "### SKU : Unique ID for each product\n"
   ]
  },
  {
   "cell_type": "code",
   "execution_count": null,
   "id": "d3409e67",
   "metadata": {},
   "outputs": [],
   "source": []
  },
  {
   "cell_type": "markdown",
   "id": "504f7c91",
   "metadata": {},
   "source": [
    "### Count of rows and Columns in Dataset"
   ]
  },
  {
   "cell_type": "code",
   "execution_count": 92,
   "id": "1a63ad46",
   "metadata": {},
   "outputs": [
    {
     "data": {
      "text/plain": [
       "(33356, 8)"
      ]
     },
     "execution_count": 92,
     "metadata": {},
     "output_type": "execute_result"
    }
   ],
   "source": [
    "df.shape"
   ]
  },
  {
   "cell_type": "markdown",
   "id": "48940832",
   "metadata": {},
   "source": [
    "# Count of Customers Purchased"
   ]
  },
  {
   "cell_type": "code",
   "execution_count": 331,
   "id": "72ab3fdd",
   "metadata": {},
   "outputs": [
    {
     "name": "stdout",
     "output_type": "stream",
     "text": [
      "606\n"
     ]
    }
   ],
   "source": [
    "print(len(df['Customer'].unique()))"
   ]
  },
  {
   "cell_type": "markdown",
   "id": "86170580",
   "metadata": {},
   "source": [
    "### Number of Customers purchased is 606"
   ]
  },
  {
   "cell_type": "code",
   "execution_count": null,
   "id": "a62939dd",
   "metadata": {},
   "outputs": [],
   "source": []
  },
  {
   "cell_type": "markdown",
   "id": "d36a2fd1",
   "metadata": {},
   "source": [
    "##### Removing the unwanted columns in Dataset"
   ]
  },
  {
   "cell_type": "code",
   "execution_count": 93,
   "id": "e3b47df7",
   "metadata": {},
   "outputs": [
    {
     "data": {
      "text/html": [
       "<div>\n",
       "<style scoped>\n",
       "    .dataframe tbody tr th:only-of-type {\n",
       "        vertical-align: middle;\n",
       "    }\n",
       "\n",
       "    .dataframe tbody tr th {\n",
       "        vertical-align: top;\n",
       "    }\n",
       "\n",
       "    .dataframe thead th {\n",
       "        text-align: right;\n",
       "    }\n",
       "</style>\n",
       "<table border=\"1\" class=\"dataframe\">\n",
       "  <thead>\n",
       "    <tr style=\"text-align: right;\">\n",
       "      <th></th>\n",
       "      <th>DocumentID</th>\n",
       "      <th>Date</th>\n",
       "      <th>SKU</th>\n",
       "      <th>Price</th>\n",
       "      <th>Discount</th>\n",
       "      <th>Customer</th>\n",
       "      <th>Quantity</th>\n",
       "    </tr>\n",
       "  </thead>\n",
       "  <tbody>\n",
       "    <tr>\n",
       "      <th>0</th>\n",
       "      <td>716</td>\n",
       "      <td>2019-09-23</td>\n",
       "      <td>1039</td>\n",
       "      <td>381.780000</td>\n",
       "      <td>67.372540</td>\n",
       "      <td>1</td>\n",
       "      <td>1.0</td>\n",
       "    </tr>\n",
       "    <tr>\n",
       "      <th>1</th>\n",
       "      <td>716</td>\n",
       "      <td>2019-09-23</td>\n",
       "      <td>853</td>\n",
       "      <td>593.220000</td>\n",
       "      <td>0.000340</td>\n",
       "      <td>1</td>\n",
       "      <td>1.0</td>\n",
       "    </tr>\n",
       "    <tr>\n",
       "      <th>2</th>\n",
       "      <td>716</td>\n",
       "      <td>2019-09-23</td>\n",
       "      <td>862</td>\n",
       "      <td>423.730000</td>\n",
       "      <td>-0.001190</td>\n",
       "      <td>1</td>\n",
       "      <td>1.0</td>\n",
       "    </tr>\n",
       "    <tr>\n",
       "      <th>3</th>\n",
       "      <td>716</td>\n",
       "      <td>2019-09-23</td>\n",
       "      <td>868</td>\n",
       "      <td>201.700000</td>\n",
       "      <td>35.588140</td>\n",
       "      <td>1</td>\n",
       "      <td>1.0</td>\n",
       "    </tr>\n",
       "    <tr>\n",
       "      <th>4</th>\n",
       "      <td>716</td>\n",
       "      <td>2019-09-23</td>\n",
       "      <td>2313</td>\n",
       "      <td>345.760000</td>\n",
       "      <td>61.019660</td>\n",
       "      <td>1</td>\n",
       "      <td>1.0</td>\n",
       "    </tr>\n",
       "    <tr>\n",
       "      <th>...</th>\n",
       "      <td>...</td>\n",
       "      <td>...</td>\n",
       "      <td>...</td>\n",
       "      <td>...</td>\n",
       "      <td>...</td>\n",
       "      <td>...</td>\n",
       "      <td>...</td>\n",
       "    </tr>\n",
       "    <tr>\n",
       "      <th>33351</th>\n",
       "      <td>13315</td>\n",
       "      <td>2022-11-09</td>\n",
       "      <td>1849</td>\n",
       "      <td>5957.627119</td>\n",
       "      <td>1072.372881</td>\n",
       "      <td>239</td>\n",
       "      <td>4.0</td>\n",
       "    </tr>\n",
       "    <tr>\n",
       "      <th>33352</th>\n",
       "      <td>13316</td>\n",
       "      <td>2022-11-09</td>\n",
       "      <td>30</td>\n",
       "      <td>1271.186441</td>\n",
       "      <td>228.813559</td>\n",
       "      <td>477</td>\n",
       "      <td>2.0</td>\n",
       "    </tr>\n",
       "    <tr>\n",
       "      <th>33353</th>\n",
       "      <td>13317</td>\n",
       "      <td>2022-11-09</td>\n",
       "      <td>2066</td>\n",
       "      <td>1355.932203</td>\n",
       "      <td>244.067797</td>\n",
       "      <td>370</td>\n",
       "      <td>1.0</td>\n",
       "    </tr>\n",
       "    <tr>\n",
       "      <th>33354</th>\n",
       "      <td>13318</td>\n",
       "      <td>2022-11-09</td>\n",
       "      <td>1586</td>\n",
       "      <td>2334.745763</td>\n",
       "      <td>420.254237</td>\n",
       "      <td>356</td>\n",
       "      <td>2.0</td>\n",
       "    </tr>\n",
       "    <tr>\n",
       "      <th>33355</th>\n",
       "      <td>13319</td>\n",
       "      <td>2022-11-09</td>\n",
       "      <td>1408</td>\n",
       "      <td>1368.644068</td>\n",
       "      <td>246.355932</td>\n",
       "      <td>441</td>\n",
       "      <td>2.0</td>\n",
       "    </tr>\n",
       "  </tbody>\n",
       "</table>\n",
       "<p>33356 rows × 7 columns</p>\n",
       "</div>"
      ],
      "text/plain": [
       "       DocumentID        Date   SKU        Price     Discount  Customer  \\\n",
       "0             716  2019-09-23  1039   381.780000    67.372540         1   \n",
       "1             716  2019-09-23   853   593.220000     0.000340         1   \n",
       "2             716  2019-09-23   862   423.730000    -0.001190         1   \n",
       "3             716  2019-09-23   868   201.700000    35.588140         1   \n",
       "4             716  2019-09-23  2313   345.760000    61.019660         1   \n",
       "...           ...         ...   ...          ...          ...       ...   \n",
       "33351       13315  2022-11-09  1849  5957.627119  1072.372881       239   \n",
       "33352       13316  2022-11-09    30  1271.186441   228.813559       477   \n",
       "33353       13317  2022-11-09  2066  1355.932203   244.067797       370   \n",
       "33354       13318  2022-11-09  1586  2334.745763   420.254237       356   \n",
       "33355       13319  2022-11-09  1408  1368.644068   246.355932       441   \n",
       "\n",
       "       Quantity  \n",
       "0           1.0  \n",
       "1           1.0  \n",
       "2           1.0  \n",
       "3           1.0  \n",
       "4           1.0  \n",
       "...         ...  \n",
       "33351       4.0  \n",
       "33352       2.0  \n",
       "33353       1.0  \n",
       "33354       2.0  \n",
       "33355       2.0  \n",
       "\n",
       "[33356 rows x 7 columns]"
      ]
     },
     "execution_count": 93,
     "metadata": {},
     "output_type": "execute_result"
    }
   ],
   "source": [
    "df = df.drop(['Unnamed: 0'],axis=1)\n",
    "df"
   ]
  },
  {
   "cell_type": "code",
   "execution_count": 94,
   "id": "1bb32b8a",
   "metadata": {},
   "outputs": [],
   "source": [
    "df['Customer'] = df['Customer'] + 1"
   ]
  },
  {
   "cell_type": "code",
   "execution_count": 221,
   "id": "51cff8e0",
   "metadata": {},
   "outputs": [],
   "source": [
    "df[\"Date\"] =  pd.to_datetime(df[\"Date\"], format=\"%Y-%m-%d\").dt.date"
   ]
  },
  {
   "cell_type": "code",
   "execution_count": 186,
   "id": "b9030c12",
   "metadata": {},
   "outputs": [
    {
     "name": "stdout",
     "output_type": "stream",
     "text": [
      "<class 'pandas.core.frame.DataFrame'>\n",
      "RangeIndex: 33356 entries, 0 to 33355\n",
      "Data columns (total 8 columns):\n",
      " #   Column      Non-Null Count  Dtype  \n",
      "---  ------      --------------  -----  \n",
      " 0   DocumentID  33356 non-null  int64  \n",
      " 1   Date        33356 non-null  object \n",
      " 2   SKU         33356 non-null  int64  \n",
      " 3   Price       33356 non-null  float64\n",
      " 4   Discount    33356 non-null  float64\n",
      " 5   Customer    33356 non-null  int64  \n",
      " 6   Quantity    33356 non-null  float64\n",
      " 7   Total_cost  33356 non-null  float64\n",
      "dtypes: float64(4), int64(3), object(1)\n",
      "memory usage: 2.0+ MB\n"
     ]
    }
   ],
   "source": [
    "df.info()"
   ]
  },
  {
   "cell_type": "code",
   "execution_count": 188,
   "id": "ffb05f92",
   "metadata": {},
   "outputs": [
    {
     "name": "stdout",
     "output_type": "stream",
     "text": [
      "<class 'pandas.core.series.Series'>\n",
      "RangeIndex: 33356 entries, 0 to 33355\n",
      "Series name: Customer\n",
      "Non-Null Count  Dtype \n",
      "--------------  ----- \n",
      "33356 non-null  object\n",
      "dtypes: object(1)\n",
      "memory usage: 260.7+ KB\n"
     ]
    }
   ],
   "source": [
    "df['Customer'] = df['Customer'].astype('str')\n",
    "df['Customer'].info()"
   ]
  },
  {
   "cell_type": "markdown",
   "id": "bc507e79",
   "metadata": {},
   "source": [
    "### Checking for  missing values"
   ]
  },
  {
   "cell_type": "code",
   "execution_count": 189,
   "id": "5f86e8f9",
   "metadata": {},
   "outputs": [
    {
     "data": {
      "text/plain": [
       "DocumentID    0\n",
       "Date          0\n",
       "SKU           0\n",
       "Price         0\n",
       "Discount      0\n",
       "Customer      0\n",
       "Quantity      0\n",
       "Total_cost    0\n",
       "dtype: int64"
      ]
     },
     "execution_count": 189,
     "metadata": {},
     "output_type": "execute_result"
    }
   ],
   "source": [
    "df.isna().sum()"
   ]
  },
  {
   "cell_type": "markdown",
   "id": "22ba74df",
   "metadata": {},
   "source": [
    "#### From this now we found that There is no missing data for this dataset\n",
    "#### If it cotains missing values we can fill those missing null values with mean or median"
   ]
  },
  {
   "cell_type": "markdown",
   "id": "d12d38da",
   "metadata": {},
   "source": [
    "## Mean - When missing data column in uniform or normally distributed\n",
    "\n",
    "## Median - When missing data column is not normally distributed (right or left skewed)\n",
    "\n"
   ]
  },
  {
   "cell_type": "code",
   "execution_count": 190,
   "id": "004af30e",
   "metadata": {},
   "outputs": [
    {
     "data": {
      "text/html": [
       "<div>\n",
       "<style scoped>\n",
       "    .dataframe tbody tr th:only-of-type {\n",
       "        vertical-align: middle;\n",
       "    }\n",
       "\n",
       "    .dataframe tbody tr th {\n",
       "        vertical-align: top;\n",
       "    }\n",
       "\n",
       "    .dataframe thead th {\n",
       "        text-align: right;\n",
       "    }\n",
       "</style>\n",
       "<table border=\"1\" class=\"dataframe\">\n",
       "  <thead>\n",
       "    <tr style=\"text-align: right;\">\n",
       "      <th></th>\n",
       "      <th>DocumentID</th>\n",
       "      <th>Date</th>\n",
       "      <th>SKU</th>\n",
       "      <th>Price</th>\n",
       "      <th>Discount</th>\n",
       "      <th>Customer</th>\n",
       "      <th>Quantity</th>\n",
       "      <th>Total_cost</th>\n",
       "    </tr>\n",
       "  </thead>\n",
       "  <tbody>\n",
       "    <tr>\n",
       "      <th>0</th>\n",
       "      <td>716</td>\n",
       "      <td>2019-09-23</td>\n",
       "      <td>1039</td>\n",
       "      <td>381.78</td>\n",
       "      <td>67.37254</td>\n",
       "      <td>2</td>\n",
       "      <td>1.0</td>\n",
       "      <td>381.78</td>\n",
       "    </tr>\n",
       "    <tr>\n",
       "      <th>1</th>\n",
       "      <td>716</td>\n",
       "      <td>2019-09-23</td>\n",
       "      <td>853</td>\n",
       "      <td>593.22</td>\n",
       "      <td>0.00034</td>\n",
       "      <td>2</td>\n",
       "      <td>1.0</td>\n",
       "      <td>593.22</td>\n",
       "    </tr>\n",
       "    <tr>\n",
       "      <th>2</th>\n",
       "      <td>716</td>\n",
       "      <td>2019-09-23</td>\n",
       "      <td>862</td>\n",
       "      <td>423.73</td>\n",
       "      <td>-0.00119</td>\n",
       "      <td>2</td>\n",
       "      <td>1.0</td>\n",
       "      <td>423.73</td>\n",
       "    </tr>\n",
       "    <tr>\n",
       "      <th>3</th>\n",
       "      <td>716</td>\n",
       "      <td>2019-09-23</td>\n",
       "      <td>868</td>\n",
       "      <td>201.70</td>\n",
       "      <td>35.58814</td>\n",
       "      <td>2</td>\n",
       "      <td>1.0</td>\n",
       "      <td>201.70</td>\n",
       "    </tr>\n",
       "    <tr>\n",
       "      <th>4</th>\n",
       "      <td>716</td>\n",
       "      <td>2019-09-23</td>\n",
       "      <td>2313</td>\n",
       "      <td>345.76</td>\n",
       "      <td>61.01966</td>\n",
       "      <td>2</td>\n",
       "      <td>1.0</td>\n",
       "      <td>345.76</td>\n",
       "    </tr>\n",
       "  </tbody>\n",
       "</table>\n",
       "</div>"
      ],
      "text/plain": [
       "   DocumentID        Date   SKU   Price  Discount Customer  Quantity  \\\n",
       "0         716  2019-09-23  1039  381.78  67.37254        2       1.0   \n",
       "1         716  2019-09-23   853  593.22   0.00034        2       1.0   \n",
       "2         716  2019-09-23   862  423.73  -0.00119        2       1.0   \n",
       "3         716  2019-09-23   868  201.70  35.58814        2       1.0   \n",
       "4         716  2019-09-23  2313  345.76  61.01966        2       1.0   \n",
       "\n",
       "   Total_cost  \n",
       "0      381.78  \n",
       "1      593.22  \n",
       "2      423.73  \n",
       "3      201.70  \n",
       "4      345.76  "
      ]
     },
     "execution_count": 190,
     "metadata": {},
     "output_type": "execute_result"
    }
   ],
   "source": [
    "df['Total_cost'] = df['Price']*df['Quantity']\n",
    "df.head()"
   ]
  },
  {
   "cell_type": "code",
   "execution_count": 191,
   "id": "119b541c",
   "metadata": {},
   "outputs": [
    {
     "data": {
      "text/html": [
       "<div>\n",
       "<style scoped>\n",
       "    .dataframe tbody tr th:only-of-type {\n",
       "        vertical-align: middle;\n",
       "    }\n",
       "\n",
       "    .dataframe tbody tr th {\n",
       "        vertical-align: top;\n",
       "    }\n",
       "\n",
       "    .dataframe thead th {\n",
       "        text-align: right;\n",
       "    }\n",
       "</style>\n",
       "<table border=\"1\" class=\"dataframe\">\n",
       "  <thead>\n",
       "    <tr style=\"text-align: right;\">\n",
       "      <th></th>\n",
       "      <th>DocumentID</th>\n",
       "      <th>Date</th>\n",
       "      <th>SKU</th>\n",
       "      <th>Price</th>\n",
       "      <th>Discount</th>\n",
       "      <th>Customer</th>\n",
       "      <th>Quantity</th>\n",
       "      <th>Total_cost</th>\n",
       "    </tr>\n",
       "  </thead>\n",
       "  <tbody>\n",
       "    <tr>\n",
       "      <th>0</th>\n",
       "      <td>716</td>\n",
       "      <td>2019-09-23</td>\n",
       "      <td>1039</td>\n",
       "      <td>381.78</td>\n",
       "      <td>67.37254</td>\n",
       "      <td>2</td>\n",
       "      <td>1.0</td>\n",
       "      <td>381.78</td>\n",
       "    </tr>\n",
       "    <tr>\n",
       "      <th>1</th>\n",
       "      <td>716</td>\n",
       "      <td>2019-09-23</td>\n",
       "      <td>853</td>\n",
       "      <td>593.22</td>\n",
       "      <td>0.00034</td>\n",
       "      <td>2</td>\n",
       "      <td>1.0</td>\n",
       "      <td>593.22</td>\n",
       "    </tr>\n",
       "    <tr>\n",
       "      <th>2</th>\n",
       "      <td>716</td>\n",
       "      <td>2019-09-23</td>\n",
       "      <td>862</td>\n",
       "      <td>423.73</td>\n",
       "      <td>-0.00119</td>\n",
       "      <td>2</td>\n",
       "      <td>1.0</td>\n",
       "      <td>423.73</td>\n",
       "    </tr>\n",
       "    <tr>\n",
       "      <th>3</th>\n",
       "      <td>716</td>\n",
       "      <td>2019-09-23</td>\n",
       "      <td>868</td>\n",
       "      <td>201.70</td>\n",
       "      <td>35.58814</td>\n",
       "      <td>2</td>\n",
       "      <td>1.0</td>\n",
       "      <td>201.70</td>\n",
       "    </tr>\n",
       "    <tr>\n",
       "      <th>4</th>\n",
       "      <td>716</td>\n",
       "      <td>2019-09-23</td>\n",
       "      <td>2313</td>\n",
       "      <td>345.76</td>\n",
       "      <td>61.01966</td>\n",
       "      <td>2</td>\n",
       "      <td>1.0</td>\n",
       "      <td>345.76</td>\n",
       "    </tr>\n",
       "  </tbody>\n",
       "</table>\n",
       "</div>"
      ],
      "text/plain": [
       "   DocumentID        Date   SKU   Price  Discount Customer  Quantity  \\\n",
       "0         716  2019-09-23  1039  381.78  67.37254        2       1.0   \n",
       "1         716  2019-09-23   853  593.22   0.00034        2       1.0   \n",
       "2         716  2019-09-23   862  423.73  -0.00119        2       1.0   \n",
       "3         716  2019-09-23   868  201.70  35.58814        2       1.0   \n",
       "4         716  2019-09-23  2313  345.76  61.01966        2       1.0   \n",
       "\n",
       "   Total_cost  \n",
       "0      381.78  \n",
       "1      593.22  \n",
       "2      423.73  \n",
       "3      201.70  \n",
       "4      345.76  "
      ]
     },
     "execution_count": 191,
     "metadata": {},
     "output_type": "execute_result"
    }
   ],
   "source": [
    "df.head()"
   ]
  },
  {
   "cell_type": "code",
   "execution_count": null,
   "id": "975bedfc",
   "metadata": {},
   "outputs": [],
   "source": []
  },
  {
   "cell_type": "markdown",
   "id": "bf5c6139",
   "metadata": {},
   "source": [
    "### Statitical Summary of Data"
   ]
  },
  {
   "cell_type": "code",
   "execution_count": 214,
   "id": "ee39c8f8",
   "metadata": {},
   "outputs": [
    {
     "data": {
      "text/html": [
       "<div>\n",
       "<style scoped>\n",
       "    .dataframe tbody tr th:only-of-type {\n",
       "        vertical-align: middle;\n",
       "    }\n",
       "\n",
       "    .dataframe tbody tr th {\n",
       "        vertical-align: top;\n",
       "    }\n",
       "\n",
       "    .dataframe thead th {\n",
       "        text-align: right;\n",
       "    }\n",
       "</style>\n",
       "<table border=\"1\" class=\"dataframe\">\n",
       "  <thead>\n",
       "    <tr style=\"text-align: right;\">\n",
       "      <th></th>\n",
       "      <th>DocumentID</th>\n",
       "      <th>SKU</th>\n",
       "      <th>Price</th>\n",
       "      <th>Discount</th>\n",
       "      <th>Quantity</th>\n",
       "      <th>Total_cost</th>\n",
       "    </tr>\n",
       "  </thead>\n",
       "  <tbody>\n",
       "    <tr>\n",
       "      <th>count</th>\n",
       "      <td>33356.000000</td>\n",
       "      <td>33356.000000</td>\n",
       "      <td>33356.000000</td>\n",
       "      <td>33356.000000</td>\n",
       "      <td>33356.000000</td>\n",
       "      <td>3.335600e+04</td>\n",
       "    </tr>\n",
       "    <tr>\n",
       "      <th>mean</th>\n",
       "      <td>8227.577227</td>\n",
       "      <td>1241.273174</td>\n",
       "      <td>2915.716875</td>\n",
       "      <td>591.249968</td>\n",
       "      <td>5.760695</td>\n",
       "      <td>9.109836e+04</td>\n",
       "    </tr>\n",
       "    <tr>\n",
       "      <th>std</th>\n",
       "      <td>4028.047727</td>\n",
       "      <td>893.872164</td>\n",
       "      <td>10285.512325</td>\n",
       "      <td>3508.983569</td>\n",
       "      <td>19.550559</td>\n",
       "      <td>2.769151e+06</td>\n",
       "    </tr>\n",
       "    <tr>\n",
       "      <th>min</th>\n",
       "      <td>0.000000</td>\n",
       "      <td>0.000000</td>\n",
       "      <td>0.000000</td>\n",
       "      <td>-0.004920</td>\n",
       "      <td>0.000000</td>\n",
       "      <td>0.000000e+00</td>\n",
       "    </tr>\n",
       "    <tr>\n",
       "      <th>25%</th>\n",
       "      <td>5399.750000</td>\n",
       "      <td>503.000000</td>\n",
       "      <td>661.016949</td>\n",
       "      <td>95.674576</td>\n",
       "      <td>2.000000</td>\n",
       "      <td>1.186441e+03</td>\n",
       "    </tr>\n",
       "    <tr>\n",
       "      <th>50%</th>\n",
       "      <td>8733.000000</td>\n",
       "      <td>1008.000000</td>\n",
       "      <td>1203.389830</td>\n",
       "      <td>195.254237</td>\n",
       "      <td>4.000000</td>\n",
       "      <td>4.108475e+03</td>\n",
       "    </tr>\n",
       "    <tr>\n",
       "      <th>75%</th>\n",
       "      <td>10857.000000</td>\n",
       "      <td>2078.250000</td>\n",
       "      <td>2572.194915</td>\n",
       "      <td>423.489661</td>\n",
       "      <td>4.000000</td>\n",
       "      <td>1.304237e+04</td>\n",
       "    </tr>\n",
       "    <tr>\n",
       "      <th>max</th>\n",
       "      <td>15751.000000</td>\n",
       "      <td>2904.000000</td>\n",
       "      <td>522767.340000</td>\n",
       "      <td>240396.660000</td>\n",
       "      <td>1246.000000</td>\n",
       "      <td>3.199336e+08</td>\n",
       "    </tr>\n",
       "  </tbody>\n",
       "</table>\n",
       "</div>"
      ],
      "text/plain": [
       "         DocumentID           SKU          Price       Discount      Quantity  \\\n",
       "count  33356.000000  33356.000000   33356.000000   33356.000000  33356.000000   \n",
       "mean    8227.577227   1241.273174    2915.716875     591.249968      5.760695   \n",
       "std     4028.047727    893.872164   10285.512325    3508.983569     19.550559   \n",
       "min        0.000000      0.000000       0.000000      -0.004920      0.000000   \n",
       "25%     5399.750000    503.000000     661.016949      95.674576      2.000000   \n",
       "50%     8733.000000   1008.000000    1203.389830     195.254237      4.000000   \n",
       "75%    10857.000000   2078.250000    2572.194915     423.489661      4.000000   \n",
       "max    15751.000000   2904.000000  522767.340000  240396.660000   1246.000000   \n",
       "\n",
       "         Total_cost  \n",
       "count  3.335600e+04  \n",
       "mean   9.109836e+04  \n",
       "std    2.769151e+06  \n",
       "min    0.000000e+00  \n",
       "25%    1.186441e+03  \n",
       "50%    4.108475e+03  \n",
       "75%    1.304237e+04  \n",
       "max    3.199336e+08  "
      ]
     },
     "execution_count": 214,
     "metadata": {},
     "output_type": "execute_result"
    }
   ],
   "source": [
    "df.describe()"
   ]
  },
  {
   "cell_type": "markdown",
   "id": "eac3c312",
   "metadata": {},
   "source": [
    "## Correlation Summary of data"
   ]
  },
  {
   "cell_type": "code",
   "execution_count": 215,
   "id": "43020173",
   "metadata": {},
   "outputs": [
    {
     "data": {
      "text/html": [
       "<div>\n",
       "<style scoped>\n",
       "    .dataframe tbody tr th:only-of-type {\n",
       "        vertical-align: middle;\n",
       "    }\n",
       "\n",
       "    .dataframe tbody tr th {\n",
       "        vertical-align: top;\n",
       "    }\n",
       "\n",
       "    .dataframe thead th {\n",
       "        text-align: right;\n",
       "    }\n",
       "</style>\n",
       "<table border=\"1\" class=\"dataframe\">\n",
       "  <thead>\n",
       "    <tr style=\"text-align: right;\">\n",
       "      <th></th>\n",
       "      <th>DocumentID</th>\n",
       "      <th>SKU</th>\n",
       "      <th>Price</th>\n",
       "      <th>Discount</th>\n",
       "      <th>Quantity</th>\n",
       "      <th>Total_cost</th>\n",
       "    </tr>\n",
       "  </thead>\n",
       "  <tbody>\n",
       "    <tr>\n",
       "      <th>DocumentID</th>\n",
       "      <td>1.000000</td>\n",
       "      <td>-0.039742</td>\n",
       "      <td>0.150009</td>\n",
       "      <td>0.105780</td>\n",
       "      <td>0.060508</td>\n",
       "      <td>0.021977</td>\n",
       "    </tr>\n",
       "    <tr>\n",
       "      <th>SKU</th>\n",
       "      <td>-0.039742</td>\n",
       "      <td>1.000000</td>\n",
       "      <td>0.031754</td>\n",
       "      <td>0.005906</td>\n",
       "      <td>0.000655</td>\n",
       "      <td>-0.004559</td>\n",
       "    </tr>\n",
       "    <tr>\n",
       "      <th>Price</th>\n",
       "      <td>0.150009</td>\n",
       "      <td>0.031754</td>\n",
       "      <td>1.000000</td>\n",
       "      <td>0.748593</td>\n",
       "      <td>0.369511</td>\n",
       "      <td>0.622206</td>\n",
       "    </tr>\n",
       "    <tr>\n",
       "      <th>Discount</th>\n",
       "      <td>0.105780</td>\n",
       "      <td>0.005906</td>\n",
       "      <td>0.748593</td>\n",
       "      <td>1.000000</td>\n",
       "      <td>0.427163</td>\n",
       "      <td>0.795776</td>\n",
       "    </tr>\n",
       "    <tr>\n",
       "      <th>Quantity</th>\n",
       "      <td>0.060508</td>\n",
       "      <td>0.000655</td>\n",
       "      <td>0.369511</td>\n",
       "      <td>0.427163</td>\n",
       "      <td>1.000000</td>\n",
       "      <td>0.424355</td>\n",
       "    </tr>\n",
       "    <tr>\n",
       "      <th>Total_cost</th>\n",
       "      <td>0.021977</td>\n",
       "      <td>-0.004559</td>\n",
       "      <td>0.622206</td>\n",
       "      <td>0.795776</td>\n",
       "      <td>0.424355</td>\n",
       "      <td>1.000000</td>\n",
       "    </tr>\n",
       "  </tbody>\n",
       "</table>\n",
       "</div>"
      ],
      "text/plain": [
       "            DocumentID       SKU     Price  Discount  Quantity  Total_cost\n",
       "DocumentID    1.000000 -0.039742  0.150009  0.105780  0.060508    0.021977\n",
       "SKU          -0.039742  1.000000  0.031754  0.005906  0.000655   -0.004559\n",
       "Price         0.150009  0.031754  1.000000  0.748593  0.369511    0.622206\n",
       "Discount      0.105780  0.005906  0.748593  1.000000  0.427163    0.795776\n",
       "Quantity      0.060508  0.000655  0.369511  0.427163  1.000000    0.424355\n",
       "Total_cost    0.021977 -0.004559  0.622206  0.795776  0.424355    1.000000"
      ]
     },
     "execution_count": 215,
     "metadata": {},
     "output_type": "execute_result"
    }
   ],
   "source": [
    "df.corr()"
   ]
  },
  {
   "cell_type": "markdown",
   "id": "ffb25226",
   "metadata": {},
   "source": [
    "### From the Above we found that the Correlation of Price and Discount is 0.748 , Therefore there is good relationship between those two variables "
   ]
  },
  {
   "cell_type": "code",
   "execution_count": 216,
   "id": "26d54612",
   "metadata": {},
   "outputs": [
    {
     "data": {
      "text/plain": [
       "<seaborn.axisgrid.FacetGrid at 0x28bd997b640>"
      ]
     },
     "execution_count": 216,
     "metadata": {},
     "output_type": "execute_result"
    },
    {
     "data": {
      "image/png": "[encoded data removed]",
      "text/plain": [
       "<Figure size 500x500 with 1 Axes>"
      ]
     },
     "metadata": {},
     "output_type": "display_data"
    }
   ],
   "source": [
    "sns.lmplot(x='Price',y='Discount',data=df)"
   ]
  },
  {
   "cell_type": "markdown",
   "id": "6bb61cf9",
   "metadata": {},
   "source": [
    "### From the above graph we are seeing a positive trend of relationship between Price and Discount"
   ]
  },
  {
   "cell_type": "code",
   "execution_count": null,
   "id": "60bd7dde",
   "metadata": {},
   "outputs": [],
   "source": []
  },
  {
   "cell_type": "code",
   "execution_count": 296,
   "id": "d41bdf12",
   "metadata": {},
   "outputs": [
    {
     "data": {
      "image/png": "[encoded data removed]",
      "text/plain": [
       "<Figure size 640x480 with 2 Axes>"
      ]
     },
     "metadata": {},
     "output_type": "display_data"
    }
   ],
   "source": [
    "sns.heatmap(df.corr(),annot=True, linewidth=.5);"
   ]
  },
  {
   "cell_type": "markdown",
   "id": "ff8e8be3",
   "metadata": {},
   "source": [
    "# Overview of Customers invested"
   ]
  },
  {
   "cell_type": "code",
   "execution_count": 192,
   "id": "b0daef0f",
   "metadata": {},
   "outputs": [
    {
     "data": {
      "text/html": [
       "<div>\n",
       "<style scoped>\n",
       "    .dataframe tbody tr th:only-of-type {\n",
       "        vertical-align: middle;\n",
       "    }\n",
       "\n",
       "    .dataframe tbody tr th {\n",
       "        vertical-align: top;\n",
       "    }\n",
       "\n",
       "    .dataframe thead th {\n",
       "        text-align: right;\n",
       "    }\n",
       "</style>\n",
       "<table border=\"1\" class=\"dataframe\">\n",
       "  <thead>\n",
       "    <tr style=\"text-align: right;\">\n",
       "      <th></th>\n",
       "      <th>Customer</th>\n",
       "      <th>Total_cost</th>\n",
       "    </tr>\n",
       "  </thead>\n",
       "  <tbody>\n",
       "    <tr>\n",
       "      <th>247</th>\n",
       "      <td>321</td>\n",
       "      <td>1.843220e+01</td>\n",
       "    </tr>\n",
       "    <tr>\n",
       "      <th>557</th>\n",
       "      <td>600</td>\n",
       "      <td>5.084746e+01</td>\n",
       "    </tr>\n",
       "    <tr>\n",
       "      <th>229</th>\n",
       "      <td>305</td>\n",
       "      <td>7.375424e+01</td>\n",
       "    </tr>\n",
       "    <tr>\n",
       "      <th>517</th>\n",
       "      <td>565</td>\n",
       "      <td>1.347458e+02</td>\n",
       "    </tr>\n",
       "    <tr>\n",
       "      <th>578</th>\n",
       "      <td>74</td>\n",
       "      <td>1.356000e+02</td>\n",
       "    </tr>\n",
       "    <tr>\n",
       "      <th>...</th>\n",
       "      <td>...</td>\n",
       "      <td>...</td>\n",
       "    </tr>\n",
       "    <tr>\n",
       "      <th>387</th>\n",
       "      <td>448</td>\n",
       "      <td>5.926570e+07</td>\n",
       "    </tr>\n",
       "    <tr>\n",
       "      <th>579</th>\n",
       "      <td>75</td>\n",
       "      <td>6.461353e+07</td>\n",
       "    </tr>\n",
       "    <tr>\n",
       "      <th>290</th>\n",
       "      <td>360</td>\n",
       "      <td>3.008908e+08</td>\n",
       "    </tr>\n",
       "    <tr>\n",
       "      <th>355</th>\n",
       "      <td>419</td>\n",
       "      <td>8.856095e+08</td>\n",
       "    </tr>\n",
       "    <tr>\n",
       "      <th>351</th>\n",
       "      <td>415</td>\n",
       "      <td>8.997159e+08</td>\n",
       "    </tr>\n",
       "  </tbody>\n",
       "</table>\n",
       "<p>606 rows × 2 columns</p>\n",
       "</div>"
      ],
      "text/plain": [
       "    Customer    Total_cost\n",
       "247      321  1.843220e+01\n",
       "557      600  5.084746e+01\n",
       "229      305  7.375424e+01\n",
       "517      565  1.347458e+02\n",
       "578       74  1.356000e+02\n",
       "..       ...           ...\n",
       "387      448  5.926570e+07\n",
       "579       75  6.461353e+07\n",
       "290      360  3.008908e+08\n",
       "355      419  8.856095e+08\n",
       "351      415  8.997159e+08\n",
       "\n",
       "[606 rows x 2 columns]"
      ]
     },
     "execution_count": 192,
     "metadata": {},
     "output_type": "execute_result"
    }
   ],
   "source": [
    "customers_investment_df = df.groupby('Customer',as_index=False)[['Total_cost']].sum().sort_values(by='Total_cost')\n",
    "customers_investment_df"
   ]
  },
  {
   "cell_type": "markdown",
   "id": "f7e49af6",
   "metadata": {},
   "source": [
    "### Top 10 Customers with Highest spend on products"
   ]
  },
  {
   "cell_type": "code",
   "execution_count": 212,
   "id": "8f53bb17",
   "metadata": {},
   "outputs": [
    {
     "data": {
      "image/png": "[encoded data removed]",
      "text/plain": [
       "<Figure size 640x480 with 1 Axes>"
      ]
     },
     "metadata": {},
     "output_type": "display_data"
    }
   ],
   "source": [
    "sns.barplot(data=(customers_investment_df.tail(10).sort_values(by='Total_cost',ascending=False)),x='Customer',y='Total_cost').set(\n",
    "    title=\"\\nTop 10 Customers with High Investment\\n\");"
   ]
  },
  {
   "cell_type": "markdown",
   "id": "53c87302",
   "metadata": {},
   "source": [
    "### Top 10 Customers with Lowest spend on products\n"
   ]
  },
  {
   "cell_type": "code",
   "execution_count": 213,
   "id": "4d4280eb",
   "metadata": {},
   "outputs": [
    {
     "data": {
      "image/png": "[encoded data removed]",
      "text/plain": [
       "<Figure size 640x480 with 1 Axes>"
      ]
     },
     "metadata": {},
     "output_type": "display_data"
    }
   ],
   "source": [
    "sns.barplot(data=customers_investment_df.head(10),x='Customer',y='Total_cost').set(\n",
    "    title=\"\\nTop 10 Customers with Low Investment\\n\");"
   ]
  },
  {
   "cell_type": "markdown",
   "id": "c73e0971",
   "metadata": {},
   "source": [
    "## Checking for normality using Hypothesis Testing"
   ]
  },
  {
   "cell_type": "code",
   "execution_count": 313,
   "id": "fa805ba7",
   "metadata": {},
   "outputs": [],
   "source": [
    "from scipy.stats import shapiro\n",
    "from scipy.stats import normaltest"
   ]
  },
  {
   "cell_type": "code",
   "execution_count": 314,
   "id": "2d6ee3c5",
   "metadata": {},
   "outputs": [],
   "source": [
    "# Ho : Data is normally distributed\n",
    "# H1 : Data is not normally Distributed"
   ]
  },
  {
   "cell_type": "code",
   "execution_count": 319,
   "id": "5b91f03c",
   "metadata": {},
   "outputs": [
    {
     "name": "stdout",
     "output_type": "stream",
     "text": [
      "Stat : 77838.34669264103\n",
      "P-Value : 0.0\n"
     ]
    }
   ],
   "source": [
    "stat,p = normaltest(df['Price'])\n",
    "print('Stat :',stat)\n",
    "print('P-Value :',p)"
   ]
  },
  {
   "cell_type": "code",
   "execution_count": 320,
   "id": "59b5bcfd",
   "metadata": {},
   "outputs": [
    {
     "name": "stdout",
     "output_type": "stream",
     "text": [
      "---Rejecting Null Hypothesis and Data is Not Normally Distributed---\n"
     ]
    }
   ],
   "source": [
    "## alpha = 0.05\n",
    "if p > 0.05:\n",
    "    print('---Accepting Null Hypothesis and Data is Normally Distributed---')\n",
    "else:\n",
    "    print('---Rejecting Null Hypothesis and Data is Not Normally Distributed---')"
   ]
  },
  {
   "cell_type": "code",
   "execution_count": 321,
   "id": "b167aa87",
   "metadata": {},
   "outputs": [
    {
     "name": "stderr",
     "output_type": "stream",
     "text": [
      "C:\\Users\\vimal\\anaconda3\\lib\\site-packages\\seaborn\\distributions.py:2619: FutureWarning: `distplot` is a deprecated function and will be removed in a future version. Please adapt your code to use either `displot` (a figure-level function with similar flexibility) or `histplot` (an axes-level function for histograms).\n",
      "  warnings.warn(msg, FutureWarning)\n"
     ]
    },
    {
     "data": {
      "image/png": "[encoded data removed]",
      "text/plain": [
       "<Figure size 640x480 with 1 Axes>"
      ]
     },
     "metadata": {},
     "output_type": "display_data"
    }
   ],
   "source": [
    "sns.distplot(df['Price'],hist=True);"
   ]
  },
  {
   "cell_type": "code",
   "execution_count": 323,
   "id": "e7948e09",
   "metadata": {},
   "outputs": [
    {
     "name": "stdout",
     "output_type": "stream",
     "text": [
      "2915.7168751558925 1203.38983\n"
     ]
    }
   ],
   "source": [
    "df_price_mean = df['Price'].mean()\n",
    "df_price_median = df['Price'].median()\n",
    "print(df_price_mean,df_price_median)"
   ]
  },
  {
   "cell_type": "code",
   "execution_count": 326,
   "id": "a3a1fa64",
   "metadata": {},
   "outputs": [
    {
     "name": "stdout",
     "output_type": "stream",
     "text": [
      "DATA is RIGHT SKEWED\n"
     ]
    }
   ],
   "source": [
    "if df_price_mean > df_price_median:\n",
    "    print('DATA is RIGHT SKEWED')\n",
    "else:\n",
    "    print('DATA is LEFT SKEWED')"
   ]
  },
  {
   "cell_type": "code",
   "execution_count": null,
   "id": "9f93f8c3",
   "metadata": {},
   "outputs": [],
   "source": []
  },
  {
   "cell_type": "markdown",
   "id": "f2c5833b",
   "metadata": {},
   "source": [
    "# Overview of Customer Orders"
   ]
  },
  {
   "cell_type": "code",
   "execution_count": 218,
   "id": "22f6c6a0",
   "metadata": {},
   "outputs": [
    {
     "data": {
      "text/html": [
       "<div>\n",
       "<style scoped>\n",
       "    .dataframe tbody tr th:only-of-type {\n",
       "        vertical-align: middle;\n",
       "    }\n",
       "\n",
       "    .dataframe tbody tr th {\n",
       "        vertical-align: top;\n",
       "    }\n",
       "\n",
       "    .dataframe thead th {\n",
       "        text-align: right;\n",
       "    }\n",
       "</style>\n",
       "<table border=\"1\" class=\"dataframe\">\n",
       "  <thead>\n",
       "    <tr style=\"text-align: right;\">\n",
       "      <th></th>\n",
       "      <th>Customer</th>\n",
       "      <th>DocumentID</th>\n",
       "    </tr>\n",
       "  </thead>\n",
       "  <tbody>\n",
       "    <tr>\n",
       "      <th>501</th>\n",
       "      <td>550</td>\n",
       "      <td>1</td>\n",
       "    </tr>\n",
       "    <tr>\n",
       "      <th>205</th>\n",
       "      <td>284</td>\n",
       "      <td>1</td>\n",
       "    </tr>\n",
       "    <tr>\n",
       "      <th>500</th>\n",
       "      <td>55</td>\n",
       "      <td>1</td>\n",
       "    </tr>\n",
       "    <tr>\n",
       "      <th>212</th>\n",
       "      <td>290</td>\n",
       "      <td>1</td>\n",
       "    </tr>\n",
       "    <tr>\n",
       "      <th>213</th>\n",
       "      <td>291</td>\n",
       "      <td>1</td>\n",
       "    </tr>\n",
       "    <tr>\n",
       "      <th>...</th>\n",
       "      <td>...</td>\n",
       "      <td>...</td>\n",
       "    </tr>\n",
       "    <tr>\n",
       "      <th>290</th>\n",
       "      <td>360</td>\n",
       "      <td>588</td>\n",
       "    </tr>\n",
       "    <tr>\n",
       "      <th>355</th>\n",
       "      <td>419</td>\n",
       "      <td>608</td>\n",
       "    </tr>\n",
       "    <tr>\n",
       "      <th>208</th>\n",
       "      <td>287</td>\n",
       "      <td>627</td>\n",
       "    </tr>\n",
       "    <tr>\n",
       "      <th>330</th>\n",
       "      <td>397</td>\n",
       "      <td>785</td>\n",
       "    </tr>\n",
       "    <tr>\n",
       "      <th>206</th>\n",
       "      <td>285</td>\n",
       "      <td>4227</td>\n",
       "    </tr>\n",
       "  </tbody>\n",
       "</table>\n",
       "<p>606 rows × 2 columns</p>\n",
       "</div>"
      ],
      "text/plain": [
       "    Customer  DocumentID\n",
       "501      550           1\n",
       "205      284           1\n",
       "500       55           1\n",
       "212      290           1\n",
       "213      291           1\n",
       "..       ...         ...\n",
       "290      360         588\n",
       "355      419         608\n",
       "208      287         627\n",
       "330      397         785\n",
       "206      285        4227\n",
       "\n",
       "[606 rows x 2 columns]"
      ]
     },
     "execution_count": 218,
     "metadata": {},
     "output_type": "execute_result"
    }
   ],
   "source": [
    "customers_orders_df = df.groupby('Customer',as_index=False)[['DocumentID']].count().sort_values(by='DocumentID')\n",
    "customers_orders_df"
   ]
  },
  {
   "cell_type": "markdown",
   "id": "7b03773f",
   "metadata": {},
   "source": [
    "## Top 10 Customers with highest orders"
   ]
  },
  {
   "cell_type": "code",
   "execution_count": 219,
   "id": "0d893a03",
   "metadata": {},
   "outputs": [
    {
     "data": {
      "image/png": "[encoded data removed]",
      "text/plain": [
       "<Figure size 640x480 with 1 Axes>"
      ]
     },
     "metadata": {},
     "output_type": "display_data"
    }
   ],
   "source": [
    "sns.barplot(data=(customers_orders_df.tail(10).sort_values(by='DocumentID',ascending=False)),x='Customer',y='DocumentID').set(\n",
    "    title=\"\\nTop 10 Customers with High Orders\\n\");"
   ]
  },
  {
   "cell_type": "code",
   "execution_count": null,
   "id": "ee1cd512",
   "metadata": {},
   "outputs": [],
   "source": []
  },
  {
   "cell_type": "markdown",
   "id": "c05de8be",
   "metadata": {},
   "source": []
  },
  {
   "cell_type": "markdown",
   "id": "7b91817c",
   "metadata": {},
   "source": [
    "# RFM ---- Model"
   ]
  },
  {
   "cell_type": "markdown",
   "id": "70e7ad21",
   "metadata": {},
   "source": [
    "## R - Recency ( Recent Prchase by the customer)\n",
    "## F - Frequency (Frequent orders placed by cutomer)\n",
    "## M - Monetary (Amount spend on products by customer)"
   ]
  },
  {
   "cell_type": "code",
   "execution_count": null,
   "id": "f5019cf3",
   "metadata": {},
   "outputs": [],
   "source": []
  },
  {
   "cell_type": "markdown",
   "id": "1dcf50ff",
   "metadata": {},
   "source": [
    "## Recency"
   ]
  },
  {
   "cell_type": "code",
   "execution_count": 232,
   "id": "e27be222",
   "metadata": {},
   "outputs": [
    {
     "name": "stdout",
     "output_type": "stream",
     "text": [
      "2022-11-09\n"
     ]
    }
   ],
   "source": [
    "max_date = df['Date'].max()\n",
    "print(max_date)"
   ]
  },
  {
   "cell_type": "code",
   "execution_count": 233,
   "id": "aa622a24",
   "metadata": {},
   "outputs": [
    {
     "data": {
      "text/html": [
       "<div>\n",
       "<style scoped>\n",
       "    .dataframe tbody tr th:only-of-type {\n",
       "        vertical-align: middle;\n",
       "    }\n",
       "\n",
       "    .dataframe tbody tr th {\n",
       "        vertical-align: top;\n",
       "    }\n",
       "\n",
       "    .dataframe thead th {\n",
       "        text-align: right;\n",
       "    }\n",
       "</style>\n",
       "<table border=\"1\" class=\"dataframe\">\n",
       "  <thead>\n",
       "    <tr style=\"text-align: right;\">\n",
       "      <th></th>\n",
       "      <th>Customer</th>\n",
       "      <th>Last_Purchase_Date</th>\n",
       "    </tr>\n",
       "  </thead>\n",
       "  <tbody>\n",
       "    <tr>\n",
       "      <th>0</th>\n",
       "      <td>1</td>\n",
       "      <td>2022-11-09</td>\n",
       "    </tr>\n",
       "    <tr>\n",
       "      <th>1</th>\n",
       "      <td>10</td>\n",
       "      <td>2019-11-11</td>\n",
       "    </tr>\n",
       "    <tr>\n",
       "      <th>2</th>\n",
       "      <td>100</td>\n",
       "      <td>2022-11-04</td>\n",
       "    </tr>\n",
       "    <tr>\n",
       "      <th>3</th>\n",
       "      <td>101</td>\n",
       "      <td>2020-04-28</td>\n",
       "    </tr>\n",
       "    <tr>\n",
       "      <th>4</th>\n",
       "      <td>102</td>\n",
       "      <td>2020-07-07</td>\n",
       "    </tr>\n",
       "  </tbody>\n",
       "</table>\n",
       "</div>"
      ],
      "text/plain": [
       "  Customer Last_Purchase_Date\n",
       "0        1         2022-11-09\n",
       "1       10         2019-11-11\n",
       "2      100         2022-11-04\n",
       "3      101         2020-04-28\n",
       "4      102         2020-07-07"
      ]
     },
     "execution_count": 233,
     "metadata": {},
     "output_type": "execute_result"
    }
   ],
   "source": [
    "df_recency = df.groupby('Customer',as_index=False)['Date'].max()\n",
    "df_recency.columns = ['Customer','Last_Purchase_Date']\n",
    "df_recency.head()"
   ]
  },
  {
   "cell_type": "code",
   "execution_count": 234,
   "id": "4276c46c",
   "metadata": {},
   "outputs": [
    {
     "data": {
      "text/html": [
       "<div>\n",
       "<style scoped>\n",
       "    .dataframe tbody tr th:only-of-type {\n",
       "        vertical-align: middle;\n",
       "    }\n",
       "\n",
       "    .dataframe tbody tr th {\n",
       "        vertical-align: top;\n",
       "    }\n",
       "\n",
       "    .dataframe thead th {\n",
       "        text-align: right;\n",
       "    }\n",
       "</style>\n",
       "<table border=\"1\" class=\"dataframe\">\n",
       "  <thead>\n",
       "    <tr style=\"text-align: right;\">\n",
       "      <th></th>\n",
       "      <th>Customer</th>\n",
       "      <th>Recency</th>\n",
       "    </tr>\n",
       "  </thead>\n",
       "  <tbody>\n",
       "    <tr>\n",
       "      <th>0</th>\n",
       "      <td>1</td>\n",
       "      <td>0</td>\n",
       "    </tr>\n",
       "    <tr>\n",
       "      <th>117</th>\n",
       "      <td>204</td>\n",
       "      <td>0</td>\n",
       "    </tr>\n",
       "    <tr>\n",
       "      <th>153</th>\n",
       "      <td>237</td>\n",
       "      <td>0</td>\n",
       "    </tr>\n",
       "    <tr>\n",
       "      <th>157</th>\n",
       "      <td>240</td>\n",
       "      <td>0</td>\n",
       "    </tr>\n",
       "    <tr>\n",
       "      <th>188</th>\n",
       "      <td>269</td>\n",
       "      <td>0</td>\n",
       "    </tr>\n",
       "    <tr>\n",
       "      <th>...</th>\n",
       "      <td>...</td>\n",
       "      <td>...</td>\n",
       "    </tr>\n",
       "    <tr>\n",
       "      <th>484</th>\n",
       "      <td>535</td>\n",
       "      <td>1390</td>\n",
       "    </tr>\n",
       "    <tr>\n",
       "      <th>159</th>\n",
       "      <td>242</td>\n",
       "      <td>1391</td>\n",
       "    </tr>\n",
       "    <tr>\n",
       "      <th>11</th>\n",
       "      <td>109</td>\n",
       "      <td>1392</td>\n",
       "    </tr>\n",
       "    <tr>\n",
       "      <th>603</th>\n",
       "      <td>97</td>\n",
       "      <td>1394</td>\n",
       "    </tr>\n",
       "    <tr>\n",
       "      <th>135</th>\n",
       "      <td>220</td>\n",
       "      <td>1405</td>\n",
       "    </tr>\n",
       "  </tbody>\n",
       "</table>\n",
       "<p>606 rows × 2 columns</p>\n",
       "</div>"
      ],
      "text/plain": [
       "    Customer  Recency\n",
       "0          1        0\n",
       "117      204        0\n",
       "153      237        0\n",
       "157      240        0\n",
       "188      269        0\n",
       "..       ...      ...\n",
       "484      535     1390\n",
       "159      242     1391\n",
       "11       109     1392\n",
       "603       97     1394\n",
       "135      220     1405\n",
       "\n",
       "[606 rows x 2 columns]"
      ]
     },
     "execution_count": 234,
     "metadata": {},
     "output_type": "execute_result"
    }
   ],
   "source": [
    "df_recency['Recency'] = df_recency.Last_Purchase_Date.apply(lambda x : (max_date - x).days)\n",
    "df_recency = df_recency.drop(['Last_Purchase_Date'],axis=1)\n",
    "df_recency = df_recency.sort_values(by = 'Recency')\n",
    "df_recency"
   ]
  },
  {
   "cell_type": "code",
   "execution_count": 250,
   "id": "401b491e",
   "metadata": {},
   "outputs": [],
   "source": [
    "df_recency_last_3_months = df_recency[df_recency['Recency'] <= 90]\n",
    "df_recency_last_3_6_months = df_recency[(df_recency['Recency'] > 90) & (df_recency['Recency'] <= 180)]\n",
    "df_recency_morethan_6_months = df_recency[df_recency['Recency'] > 180]\n",
    "\n",
    "data = [df_recency_last_3_months.shape[0],df_recency_last_3_6_months.shape[0],df_recency_morethan_6_months.shape[0]]\n",
    "keys = ['Most_Recent_Customers','Medium_Recenct_Customers','Poor_Occurence_Customers']"
   ]
  },
  {
   "cell_type": "code",
   "execution_count": 258,
   "id": "f3f9c8b4",
   "metadata": {},
   "outputs": [
    {
     "data": {
      "image/png": "[encoded data removed]",
      "text/plain": [
       "<Figure size 640x480 with 1 Axes>"
      ]
     },
     "metadata": {},
     "output_type": "display_data"
    }
   ],
   "source": [
    "palette_color = sns.color_palette('bright')\n",
    "  \n",
    "# plotting data on chart\n",
    "plt.pie(data, labels=keys, colors=palette_color,\n",
    "         autopct='%.0f%%')\n",
    "  \n",
    "# displaying chart\n",
    "plt.show()"
   ]
  },
  {
   "cell_type": "markdown",
   "id": "22ce7ab1",
   "metadata": {},
   "source": [
    "### Most_Recent_Customers = Customers with less than 90 days\n",
    "\n",
    "### Medium_Recent_Customers = Customers with less than 180 days\n",
    "\n",
    "### poor Occurence Customers = Customers ordered before 6 months"
   ]
  },
  {
   "cell_type": "code",
   "execution_count": null,
   "id": "06694e1d",
   "metadata": {},
   "outputs": [],
   "source": []
  },
  {
   "cell_type": "code",
   "execution_count": null,
   "id": "4aac1a39",
   "metadata": {},
   "outputs": [],
   "source": []
  },
  {
   "cell_type": "markdown",
   "id": "b8ff2237",
   "metadata": {},
   "source": [
    "# Frequency"
   ]
  },
  {
   "cell_type": "code",
   "execution_count": 260,
   "id": "2131ee97",
   "metadata": {},
   "outputs": [],
   "source": [
    "df_freq = df.drop_duplicates(subset=['Customer','DocumentID'], keep=\"first\")"
   ]
  },
  {
   "cell_type": "code",
   "execution_count": 261,
   "id": "4bef968b",
   "metadata": {},
   "outputs": [
    {
     "data": {
      "text/html": [
       "<div>\n",
       "<style scoped>\n",
       "    .dataframe tbody tr th:only-of-type {\n",
       "        vertical-align: middle;\n",
       "    }\n",
       "\n",
       "    .dataframe tbody tr th {\n",
       "        vertical-align: top;\n",
       "    }\n",
       "\n",
       "    .dataframe thead th {\n",
       "        text-align: right;\n",
       "    }\n",
       "</style>\n",
       "<table border=\"1\" class=\"dataframe\">\n",
       "  <thead>\n",
       "    <tr style=\"text-align: right;\">\n",
       "      <th></th>\n",
       "      <th>Customer</th>\n",
       "      <th>Frequency</th>\n",
       "    </tr>\n",
       "  </thead>\n",
       "  <tbody>\n",
       "    <tr>\n",
       "      <th>414</th>\n",
       "      <td>472</td>\n",
       "      <td>1</td>\n",
       "    </tr>\n",
       "    <tr>\n",
       "      <th>488</th>\n",
       "      <td>539</td>\n",
       "      <td>1</td>\n",
       "    </tr>\n",
       "    <tr>\n",
       "      <th>489</th>\n",
       "      <td>54</td>\n",
       "      <td>1</td>\n",
       "    </tr>\n",
       "    <tr>\n",
       "      <th>220</th>\n",
       "      <td>298</td>\n",
       "      <td>1</td>\n",
       "    </tr>\n",
       "    <tr>\n",
       "      <th>219</th>\n",
       "      <td>297</td>\n",
       "      <td>1</td>\n",
       "    </tr>\n",
       "    <tr>\n",
       "      <th>...</th>\n",
       "      <td>...</td>\n",
       "      <td>...</td>\n",
       "    </tr>\n",
       "    <tr>\n",
       "      <th>281</th>\n",
       "      <td>352</td>\n",
       "      <td>394</td>\n",
       "    </tr>\n",
       "    <tr>\n",
       "      <th>459</th>\n",
       "      <td>512</td>\n",
       "      <td>450</td>\n",
       "    </tr>\n",
       "    <tr>\n",
       "      <th>330</th>\n",
       "      <td>397</td>\n",
       "      <td>456</td>\n",
       "    </tr>\n",
       "    <tr>\n",
       "      <th>453</th>\n",
       "      <td>507</td>\n",
       "      <td>482</td>\n",
       "    </tr>\n",
       "    <tr>\n",
       "      <th>206</th>\n",
       "      <td>285</td>\n",
       "      <td>713</td>\n",
       "    </tr>\n",
       "  </tbody>\n",
       "</table>\n",
       "<p>606 rows × 2 columns</p>\n",
       "</div>"
      ],
      "text/plain": [
       "    Customer  Frequency\n",
       "414      472          1\n",
       "488      539          1\n",
       "489       54          1\n",
       "220      298          1\n",
       "219      297          1\n",
       "..       ...        ...\n",
       "281      352        394\n",
       "459      512        450\n",
       "330      397        456\n",
       "453      507        482\n",
       "206      285        713\n",
       "\n",
       "[606 rows x 2 columns]"
      ]
     },
     "execution_count": 261,
     "metadata": {},
     "output_type": "execute_result"
    }
   ],
   "source": [
    "df_freq = df_freq.groupby('Customer',as_index=False)['DocumentID'].count()\n",
    "df_freq.columns = ['Customer','Frequency']\n",
    "df_freq = df_freq.sort_values(by = 'Frequency')\n",
    "df_freq"
   ]
  },
  {
   "cell_type": "markdown",
   "id": "604becf4",
   "metadata": {},
   "source": [
    "## Frequency of customers"
   ]
  },
  {
   "cell_type": "code",
   "execution_count": 262,
   "id": "6ab4d381",
   "metadata": {},
   "outputs": [
    {
     "data": {
      "image/png": "[encoded data removed]",
      "text/plain": [
       "<Figure size 640x480 with 1 Axes>"
      ]
     },
     "metadata": {},
     "output_type": "display_data"
    }
   ],
   "source": [
    "sns.barplot(data=(df_freq.tail(10).sort_values(by='Frequency',ascending=False)),x='Customer',y='Frequency').set(\n",
    "    title=\"\\nTop 10 Most Frequent Customers \\n\");"
   ]
  },
  {
   "cell_type": "code",
   "execution_count": null,
   "id": "8579db1b",
   "metadata": {},
   "outputs": [],
   "source": []
  },
  {
   "cell_type": "markdown",
   "id": "f41523a2",
   "metadata": {},
   "source": [
    "# Monetary"
   ]
  },
  {
   "cell_type": "code",
   "execution_count": 263,
   "id": "41f0493a",
   "metadata": {},
   "outputs": [
    {
     "data": {
      "text/html": [
       "<div>\n",
       "<style scoped>\n",
       "    .dataframe tbody tr th:only-of-type {\n",
       "        vertical-align: middle;\n",
       "    }\n",
       "\n",
       "    .dataframe tbody tr th {\n",
       "        vertical-align: top;\n",
       "    }\n",
       "\n",
       "    .dataframe thead th {\n",
       "        text-align: right;\n",
       "    }\n",
       "</style>\n",
       "<table border=\"1\" class=\"dataframe\">\n",
       "  <thead>\n",
       "    <tr style=\"text-align: right;\">\n",
       "      <th></th>\n",
       "      <th>Customer</th>\n",
       "      <th>Monetary</th>\n",
       "    </tr>\n",
       "  </thead>\n",
       "  <tbody>\n",
       "    <tr>\n",
       "      <th>247</th>\n",
       "      <td>321</td>\n",
       "      <td>18.432203</td>\n",
       "    </tr>\n",
       "    <tr>\n",
       "      <th>557</th>\n",
       "      <td>600</td>\n",
       "      <td>50.847458</td>\n",
       "    </tr>\n",
       "    <tr>\n",
       "      <th>229</th>\n",
       "      <td>305</td>\n",
       "      <td>73.754237</td>\n",
       "    </tr>\n",
       "    <tr>\n",
       "      <th>517</th>\n",
       "      <td>565</td>\n",
       "      <td>134.745763</td>\n",
       "    </tr>\n",
       "    <tr>\n",
       "      <th>578</th>\n",
       "      <td>74</td>\n",
       "      <td>135.600000</td>\n",
       "    </tr>\n",
       "  </tbody>\n",
       "</table>\n",
       "</div>"
      ],
      "text/plain": [
       "    Customer    Monetary\n",
       "247      321   18.432203\n",
       "557      600   50.847458\n",
       "229      305   73.754237\n",
       "517      565  134.745763\n",
       "578       74  135.600000"
      ]
     },
     "execution_count": 263,
     "metadata": {},
     "output_type": "execute_result"
    }
   ],
   "source": [
    "df_monetary = df.groupby('Customer',as_index=False)['Total_cost'].sum()\n",
    "df_monetary.columns = ['Customer','Monetary']\n",
    "df_monetary = df_monetary.sort_values(by='Monetary')\n",
    "df_monetary.head()"
   ]
  },
  {
   "cell_type": "code",
   "execution_count": null,
   "id": "42beb390",
   "metadata": {},
   "outputs": [],
   "source": []
  },
  {
   "cell_type": "code",
   "execution_count": 279,
   "id": "45c3589a",
   "metadata": {},
   "outputs": [
    {
     "data": {
      "image/png": "[encoded data removed]",
      "text/plain": [
       "<Figure size 1200x500 with 2 Axes>"
      ]
     },
     "metadata": {},
     "output_type": "display_data"
    }
   ],
   "source": [
    "sns.set()\n",
    "\n",
    "fig, axes = plt.subplots(1,2,figsize=(12, 5))\n",
    "\n",
    "sns.barplot(data=(df_monetary.tail(10).sort_values(by='Monetary',ascending=False)),x='Customer',y='Monetary',ax=axes[0]).set(\n",
    "    title=\"\\nTop 10 Most Customers spend \\n\");\n",
    "sns.barplot(data=(df_monetary.head(10).sort_values(by='Monetary',ascending=True)),x='Customer',y='Monetary',ax=axes[1]).set(\n",
    "    title=\"\\nTop 10 Least Customers spend \\n\");\n"
   ]
  },
  {
   "cell_type": "code",
   "execution_count": null,
   "id": "6e46b545",
   "metadata": {},
   "outputs": [],
   "source": []
  },
  {
   "cell_type": "code",
   "execution_count": null,
   "id": "2f71b554",
   "metadata": {},
   "outputs": [],
   "source": []
  },
  {
   "cell_type": "markdown",
   "id": "db13d32d",
   "metadata": {},
   "source": [
    "## Merging Recency,frequency,Monetary with respect to CUSTOMER"
   ]
  },
  {
   "cell_type": "code",
   "execution_count": 150,
   "id": "cea4dc03",
   "metadata": {},
   "outputs": [
    {
     "data": {
      "text/html": [
       "<div>\n",
       "<style scoped>\n",
       "    .dataframe tbody tr th:only-of-type {\n",
       "        vertical-align: middle;\n",
       "    }\n",
       "\n",
       "    .dataframe tbody tr th {\n",
       "        vertical-align: top;\n",
       "    }\n",
       "\n",
       "    .dataframe thead th {\n",
       "        text-align: right;\n",
       "    }\n",
       "</style>\n",
       "<table border=\"1\" class=\"dataframe\">\n",
       "  <thead>\n",
       "    <tr style=\"text-align: right;\">\n",
       "      <th></th>\n",
       "      <th>Customer</th>\n",
       "      <th>Recency</th>\n",
       "      <th>Frequency</th>\n",
       "      <th>Monetary</th>\n",
       "    </tr>\n",
       "  </thead>\n",
       "  <tbody>\n",
       "    <tr>\n",
       "      <th>0</th>\n",
       "      <td>1</td>\n",
       "      <td>0</td>\n",
       "      <td>16</td>\n",
       "      <td>3.783053e+05</td>\n",
       "    </tr>\n",
       "    <tr>\n",
       "      <th>1</th>\n",
       "      <td>2</td>\n",
       "      <td>599</td>\n",
       "      <td>71</td>\n",
       "      <td>7.880891e+05</td>\n",
       "    </tr>\n",
       "    <tr>\n",
       "      <th>2</th>\n",
       "      <td>3</td>\n",
       "      <td>61</td>\n",
       "      <td>21</td>\n",
       "      <td>1.971703e+05</td>\n",
       "    </tr>\n",
       "    <tr>\n",
       "      <th>3</th>\n",
       "      <td>4</td>\n",
       "      <td>10</td>\n",
       "      <td>2</td>\n",
       "      <td>5.261606e+03</td>\n",
       "    </tr>\n",
       "    <tr>\n",
       "      <th>4</th>\n",
       "      <td>5</td>\n",
       "      <td>13</td>\n",
       "      <td>34</td>\n",
       "      <td>4.511719e+07</td>\n",
       "    </tr>\n",
       "    <tr>\n",
       "      <th>...</th>\n",
       "      <td>...</td>\n",
       "      <td>...</td>\n",
       "      <td>...</td>\n",
       "      <td>...</td>\n",
       "    </tr>\n",
       "    <tr>\n",
       "      <th>601</th>\n",
       "      <td>602</td>\n",
       "      <td>93</td>\n",
       "      <td>2</td>\n",
       "      <td>5.031661e+05</td>\n",
       "    </tr>\n",
       "    <tr>\n",
       "      <th>602</th>\n",
       "      <td>603</td>\n",
       "      <td>989</td>\n",
       "      <td>3</td>\n",
       "      <td>7.394068e+03</td>\n",
       "    </tr>\n",
       "    <tr>\n",
       "      <th>603</th>\n",
       "      <td>604</td>\n",
       "      <td>7</td>\n",
       "      <td>61</td>\n",
       "      <td>4.154070e+06</td>\n",
       "    </tr>\n",
       "    <tr>\n",
       "      <th>604</th>\n",
       "      <td>605</td>\n",
       "      <td>295</td>\n",
       "      <td>218</td>\n",
       "      <td>2.656159e+06</td>\n",
       "    </tr>\n",
       "    <tr>\n",
       "      <th>605</th>\n",
       "      <td>606</td>\n",
       "      <td>138</td>\n",
       "      <td>1</td>\n",
       "      <td>1.923729e+04</td>\n",
       "    </tr>\n",
       "  </tbody>\n",
       "</table>\n",
       "<p>606 rows × 4 columns</p>\n",
       "</div>"
      ],
      "text/plain": [
       "     Customer  Recency  Frequency      Monetary\n",
       "0           1        0         16  3.783053e+05\n",
       "1           2      599         71  7.880891e+05\n",
       "2           3       61         21  1.971703e+05\n",
       "3           4       10          2  5.261606e+03\n",
       "4           5       13         34  4.511719e+07\n",
       "..        ...      ...        ...           ...\n",
       "601       602       93          2  5.031661e+05\n",
       "602       603      989          3  7.394068e+03\n",
       "603       604        7         61  4.154070e+06\n",
       "604       605      295        218  2.656159e+06\n",
       "605       606      138          1  1.923729e+04\n",
       "\n",
       "[606 rows x 4 columns]"
      ]
     },
     "execution_count": 150,
     "metadata": {},
     "output_type": "execute_result"
    }
   ],
   "source": [
    "RFM = df_recency.merge(df_freq,on='Customer').merge(df_monetary,on='Customer')\n",
    "RFM"
   ]
  },
  {
   "cell_type": "markdown",
   "id": "7388a8e5",
   "metadata": {},
   "source": [
    "## Normalizing Process"
   ]
  },
  {
   "cell_type": "code",
   "execution_count": 151,
   "id": "46bda3f2",
   "metadata": {},
   "outputs": [],
   "source": [
    "from sklearn.preprocessing import StandardScaler\n",
    "scaler=StandardScaler()\n",
    "scaled=scaler.fit_transform(RFM)"
   ]
  },
  {
   "cell_type": "markdown",
   "id": "d3f009ee",
   "metadata": {},
   "source": [
    "# K-Means Clustering Algorithm"
   ]
  },
  {
   "cell_type": "markdown",
   "id": "e1cafeb7",
   "metadata": {},
   "source": [
    "### Centroid Based Algorith\n",
    "\n",
    "### Unsupervised Learning method\n",
    "\n",
    "### Groups Unlabelled data into Different Clusters\n",
    "\n",
    "### Elbow method is used to find the clusters"
   ]
  },
  {
   "cell_type": "code",
   "execution_count": null,
   "id": "e8d11ae0",
   "metadata": {},
   "outputs": [],
   "source": []
  },
  {
   "cell_type": "code",
   "execution_count": null,
   "id": "97b17e7d",
   "metadata": {},
   "outputs": [],
   "source": []
  },
  {
   "cell_type": "markdown",
   "id": "44567699",
   "metadata": {},
   "source": [
    "## Using K-means algorithm for this dataset we can find that how our customers are ordering and spending money on your products by clusters"
   ]
  },
  {
   "cell_type": "code",
   "execution_count": 280,
   "id": "919a469e",
   "metadata": {},
   "outputs": [
    {
     "name": "stderr",
     "output_type": "stream",
     "text": [
      "C:\\Users\\vimal\\anaconda3\\lib\\site-packages\\sklearn\\cluster\\_kmeans.py:1036: UserWarning: KMeans is known to have a memory leak on Windows with MKL, when there are less chunks than available threads. You can avoid it by setting the environment variable OMP_NUM_THREADS=3.\n",
      "  warnings.warn(\n"
     ]
    },
    {
     "data": {
      "image/png": "[encoded data removed]",
      "text/plain": [
       "<Figure size 1200x800 with 1 Axes>"
      ]
     },
     "metadata": {},
     "output_type": "display_data"
    }
   ],
   "source": [
    "from sklearn.cluster import KMeans\n",
    "\n",
    "inertia=[]\n",
    "\n",
    "for i in np.arange(1,15):\n",
    "    kmeans=KMeans(n_clusters=i)\n",
    "    kmeans.fit(scaled)\n",
    "    inertia.append(kmeans.inertia_)\n",
    "\n",
    "\n",
    "plt.figure(figsize=(12,8))\n",
    "plt.plot(inertia, marker=\"o\");"
   ]
  },
  {
   "cell_type": "markdown",
   "id": "472c45a2",
   "metadata": {},
   "source": [
    "## From the above plot we can visually fix that cluster = 4"
   ]
  },
  {
   "cell_type": "code",
   "execution_count": null,
   "id": "d549b649",
   "metadata": {},
   "outputs": [],
   "source": []
  },
  {
   "cell_type": "code",
   "execution_count": 153,
   "id": "18a47ec4",
   "metadata": {},
   "outputs": [],
   "source": [
    "kmeans=KMeans(n_clusters=4)\n",
    "kmeans.fit(scaled)\n",
    "RFM[\"Clusters\"]=(kmeans.labels_+1)"
   ]
  },
  {
   "cell_type": "code",
   "execution_count": 154,
   "id": "e8506770",
   "metadata": {},
   "outputs": [
    {
     "data": {
      "text/html": [
       "<div>\n",
       "<style scoped>\n",
       "    .dataframe tbody tr th:only-of-type {\n",
       "        vertical-align: middle;\n",
       "    }\n",
       "\n",
       "    .dataframe tbody tr th {\n",
       "        vertical-align: top;\n",
       "    }\n",
       "\n",
       "    .dataframe thead th {\n",
       "        text-align: right;\n",
       "    }\n",
       "</style>\n",
       "<table border=\"1\" class=\"dataframe\">\n",
       "  <thead>\n",
       "    <tr style=\"text-align: right;\">\n",
       "      <th></th>\n",
       "      <th>Customer</th>\n",
       "      <th>Recency</th>\n",
       "      <th>Frequency</th>\n",
       "      <th>Monetary</th>\n",
       "      <th>Clusters</th>\n",
       "    </tr>\n",
       "  </thead>\n",
       "  <tbody>\n",
       "    <tr>\n",
       "      <th>0</th>\n",
       "      <td>1</td>\n",
       "      <td>0</td>\n",
       "      <td>16</td>\n",
       "      <td>3.783053e+05</td>\n",
       "      <td>2</td>\n",
       "    </tr>\n",
       "    <tr>\n",
       "      <th>1</th>\n",
       "      <td>2</td>\n",
       "      <td>599</td>\n",
       "      <td>71</td>\n",
       "      <td>7.880891e+05</td>\n",
       "      <td>1</td>\n",
       "    </tr>\n",
       "    <tr>\n",
       "      <th>2</th>\n",
       "      <td>3</td>\n",
       "      <td>61</td>\n",
       "      <td>21</td>\n",
       "      <td>1.971703e+05</td>\n",
       "      <td>2</td>\n",
       "    </tr>\n",
       "    <tr>\n",
       "      <th>3</th>\n",
       "      <td>4</td>\n",
       "      <td>10</td>\n",
       "      <td>2</td>\n",
       "      <td>5.261606e+03</td>\n",
       "      <td>2</td>\n",
       "    </tr>\n",
       "    <tr>\n",
       "      <th>4</th>\n",
       "      <td>5</td>\n",
       "      <td>13</td>\n",
       "      <td>34</td>\n",
       "      <td>4.511719e+07</td>\n",
       "      <td>2</td>\n",
       "    </tr>\n",
       "    <tr>\n",
       "      <th>...</th>\n",
       "      <td>...</td>\n",
       "      <td>...</td>\n",
       "      <td>...</td>\n",
       "      <td>...</td>\n",
       "      <td>...</td>\n",
       "    </tr>\n",
       "    <tr>\n",
       "      <th>601</th>\n",
       "      <td>602</td>\n",
       "      <td>93</td>\n",
       "      <td>2</td>\n",
       "      <td>5.031661e+05</td>\n",
       "      <td>2</td>\n",
       "    </tr>\n",
       "    <tr>\n",
       "      <th>602</th>\n",
       "      <td>603</td>\n",
       "      <td>989</td>\n",
       "      <td>3</td>\n",
       "      <td>7.394068e+03</td>\n",
       "      <td>1</td>\n",
       "    </tr>\n",
       "    <tr>\n",
       "      <th>603</th>\n",
       "      <td>604</td>\n",
       "      <td>7</td>\n",
       "      <td>61</td>\n",
       "      <td>4.154070e+06</td>\n",
       "      <td>2</td>\n",
       "    </tr>\n",
       "    <tr>\n",
       "      <th>604</th>\n",
       "      <td>605</td>\n",
       "      <td>295</td>\n",
       "      <td>218</td>\n",
       "      <td>2.656159e+06</td>\n",
       "      <td>4</td>\n",
       "    </tr>\n",
       "    <tr>\n",
       "      <th>605</th>\n",
       "      <td>606</td>\n",
       "      <td>138</td>\n",
       "      <td>1</td>\n",
       "      <td>1.923729e+04</td>\n",
       "      <td>2</td>\n",
       "    </tr>\n",
       "  </tbody>\n",
       "</table>\n",
       "<p>606 rows × 5 columns</p>\n",
       "</div>"
      ],
      "text/plain": [
       "     Customer  Recency  Frequency      Monetary  Clusters\n",
       "0           1        0         16  3.783053e+05         2\n",
       "1           2      599         71  7.880891e+05         1\n",
       "2           3       61         21  1.971703e+05         2\n",
       "3           4       10          2  5.261606e+03         2\n",
       "4           5       13         34  4.511719e+07         2\n",
       "..        ...      ...        ...           ...       ...\n",
       "601       602       93          2  5.031661e+05         2\n",
       "602       603      989          3  7.394068e+03         1\n",
       "603       604        7         61  4.154070e+06         2\n",
       "604       605      295        218  2.656159e+06         4\n",
       "605       606      138          1  1.923729e+04         2\n",
       "\n",
       "[606 rows x 5 columns]"
      ]
     },
     "execution_count": 154,
     "metadata": {},
     "output_type": "execute_result"
    }
   ],
   "source": [
    "RFM"
   ]
  },
  {
   "cell_type": "code",
   "execution_count": 155,
   "id": "d9ee9878",
   "metadata": {},
   "outputs": [
    {
     "data": {
      "text/plain": [
       "2    336\n",
       "1    211\n",
       "4     57\n",
       "3      2\n",
       "Name: Clusters, dtype: int64"
      ]
     },
     "execution_count": 155,
     "metadata": {},
     "output_type": "execute_result"
    }
   ],
   "source": [
    "RFM['Clusters'].value_counts()"
   ]
  },
  {
   "cell_type": "markdown",
   "id": "5177abf4",
   "metadata": {},
   "source": [
    "## Analysing the performance of the customers using Clusters"
   ]
  },
  {
   "cell_type": "code",
   "execution_count": 281,
   "id": "a232fc61",
   "metadata": {},
   "outputs": [
    {
     "name": "stderr",
     "output_type": "stream",
     "text": [
      "C:\\Users\\vimal\\AppData\\Local\\Temp\\ipykernel_18592\\773786111.py:1: FutureWarning: Indexing with multiple keys (implicitly converted to a tuple of keys) will be deprecated, use a list instead.\n",
      "  final=RFM.groupby(\"Clusters\")[\"Recency\",\"Frequency\",\"Monetary\"].mean().sort_values(by='Monetary')\n"
     ]
    },
    {
     "data": {
      "text/html": [
       "<div>\n",
       "<style scoped>\n",
       "    .dataframe tbody tr th:only-of-type {\n",
       "        vertical-align: middle;\n",
       "    }\n",
       "\n",
       "    .dataframe tbody tr th {\n",
       "        vertical-align: top;\n",
       "    }\n",
       "\n",
       "    .dataframe thead th {\n",
       "        text-align: right;\n",
       "    }\n",
       "</style>\n",
       "<table border=\"1\" class=\"dataframe\">\n",
       "  <thead>\n",
       "    <tr style=\"text-align: right;\">\n",
       "      <th></th>\n",
       "      <th>Recency</th>\n",
       "      <th>Frequency</th>\n",
       "      <th>Monetary</th>\n",
       "    </tr>\n",
       "    <tr>\n",
       "      <th>Clusters</th>\n",
       "      <th></th>\n",
       "      <th></th>\n",
       "      <th></th>\n",
       "    </tr>\n",
       "  </thead>\n",
       "  <tbody>\n",
       "    <tr>\n",
       "      <th>1</th>\n",
       "      <td>1003.473934</td>\n",
       "      <td>4.862559</td>\n",
       "      <td>5.065868e+04</td>\n",
       "    </tr>\n",
       "    <tr>\n",
       "      <th>2</th>\n",
       "      <td>127.943452</td>\n",
       "      <td>21.931548</td>\n",
       "      <td>1.004568e+06</td>\n",
       "    </tr>\n",
       "    <tr>\n",
       "      <th>4</th>\n",
       "      <td>41.771930</td>\n",
       "      <td>233.298246</td>\n",
       "      <td>1.587943e+07</td>\n",
       "    </tr>\n",
       "    <tr>\n",
       "      <th>3</th>\n",
       "      <td>5.500000</td>\n",
       "      <td>101.000000</td>\n",
       "      <td>8.926627e+08</td>\n",
       "    </tr>\n",
       "  </tbody>\n",
       "</table>\n",
       "</div>"
      ],
      "text/plain": [
       "              Recency   Frequency      Monetary\n",
       "Clusters                                       \n",
       "1         1003.473934    4.862559  5.065868e+04\n",
       "2          127.943452   21.931548  1.004568e+06\n",
       "4           41.771930  233.298246  1.587943e+07\n",
       "3            5.500000  101.000000  8.926627e+08"
      ]
     },
     "execution_count": 281,
     "metadata": {},
     "output_type": "execute_result"
    }
   ],
   "source": [
    "final=RFM.groupby(\"Clusters\")[\"Recency\",\"Frequency\",\"Monetary\"].mean().sort_values(by='Monetary')\n",
    "final"
   ]
  },
  {
   "cell_type": "markdown",
   "id": "6c76e2ca",
   "metadata": {},
   "source": [
    "### From the above data we can able to find that \n",
    "### Cluster 3 = High Value Customers\n",
    "### Cluster 4 = Above Average Customers\n",
    "### Cluster 2 = Average Customers\n",
    "### Cluster 1 = Low-value  Customers\n"
   ]
  },
  {
   "cell_type": "code",
   "execution_count": 282,
   "id": "e9f4953d",
   "metadata": {},
   "outputs": [],
   "source": [
    "def func(row):\n",
    "    if row[\"Clusters\"]==3:\n",
    "        return 'High Value Customers'\n",
    "    elif row[\"Clusters\"]==4:\n",
    "        return 'Above Average Customers'\n",
    "    elif row[\"Clusters\"]==2:\n",
    "        return 'Average Customers'\n",
    "    else:\n",
    "        return 'Low-value Customers'"
   ]
  },
  {
   "cell_type": "code",
   "execution_count": 283,
   "id": "66d790de",
   "metadata": {},
   "outputs": [
    {
     "data": {
      "text/html": [
       "<div>\n",
       "<style scoped>\n",
       "    .dataframe tbody tr th:only-of-type {\n",
       "        vertical-align: middle;\n",
       "    }\n",
       "\n",
       "    .dataframe tbody tr th {\n",
       "        vertical-align: top;\n",
       "    }\n",
       "\n",
       "    .dataframe thead th {\n",
       "        text-align: right;\n",
       "    }\n",
       "</style>\n",
       "<table border=\"1\" class=\"dataframe\">\n",
       "  <thead>\n",
       "    <tr style=\"text-align: right;\">\n",
       "      <th></th>\n",
       "      <th>Customer</th>\n",
       "      <th>Recency</th>\n",
       "      <th>Frequency</th>\n",
       "      <th>Monetary</th>\n",
       "      <th>Clusters</th>\n",
       "      <th>Customer_Status</th>\n",
       "    </tr>\n",
       "  </thead>\n",
       "  <tbody>\n",
       "    <tr>\n",
       "      <th>0</th>\n",
       "      <td>1</td>\n",
       "      <td>0</td>\n",
       "      <td>16</td>\n",
       "      <td>3.783053e+05</td>\n",
       "      <td>2</td>\n",
       "      <td>Average Customers</td>\n",
       "    </tr>\n",
       "    <tr>\n",
       "      <th>1</th>\n",
       "      <td>2</td>\n",
       "      <td>599</td>\n",
       "      <td>71</td>\n",
       "      <td>7.880891e+05</td>\n",
       "      <td>1</td>\n",
       "      <td>Low-value Customers</td>\n",
       "    </tr>\n",
       "    <tr>\n",
       "      <th>2</th>\n",
       "      <td>3</td>\n",
       "      <td>61</td>\n",
       "      <td>21</td>\n",
       "      <td>1.971703e+05</td>\n",
       "      <td>2</td>\n",
       "      <td>Average Customers</td>\n",
       "    </tr>\n",
       "    <tr>\n",
       "      <th>3</th>\n",
       "      <td>4</td>\n",
       "      <td>10</td>\n",
       "      <td>2</td>\n",
       "      <td>5.261606e+03</td>\n",
       "      <td>2</td>\n",
       "      <td>Average Customers</td>\n",
       "    </tr>\n",
       "    <tr>\n",
       "      <th>4</th>\n",
       "      <td>5</td>\n",
       "      <td>13</td>\n",
       "      <td>34</td>\n",
       "      <td>4.511719e+07</td>\n",
       "      <td>2</td>\n",
       "      <td>Average Customers</td>\n",
       "    </tr>\n",
       "    <tr>\n",
       "      <th>...</th>\n",
       "      <td>...</td>\n",
       "      <td>...</td>\n",
       "      <td>...</td>\n",
       "      <td>...</td>\n",
       "      <td>...</td>\n",
       "      <td>...</td>\n",
       "    </tr>\n",
       "    <tr>\n",
       "      <th>601</th>\n",
       "      <td>602</td>\n",
       "      <td>93</td>\n",
       "      <td>2</td>\n",
       "      <td>5.031661e+05</td>\n",
       "      <td>2</td>\n",
       "      <td>Average Customers</td>\n",
       "    </tr>\n",
       "    <tr>\n",
       "      <th>602</th>\n",
       "      <td>603</td>\n",
       "      <td>989</td>\n",
       "      <td>3</td>\n",
       "      <td>7.394068e+03</td>\n",
       "      <td>1</td>\n",
       "      <td>Low-value Customers</td>\n",
       "    </tr>\n",
       "    <tr>\n",
       "      <th>603</th>\n",
       "      <td>604</td>\n",
       "      <td>7</td>\n",
       "      <td>61</td>\n",
       "      <td>4.154070e+06</td>\n",
       "      <td>2</td>\n",
       "      <td>Average Customers</td>\n",
       "    </tr>\n",
       "    <tr>\n",
       "      <th>604</th>\n",
       "      <td>605</td>\n",
       "      <td>295</td>\n",
       "      <td>218</td>\n",
       "      <td>2.656159e+06</td>\n",
       "      <td>4</td>\n",
       "      <td>Above Average Customers</td>\n",
       "    </tr>\n",
       "    <tr>\n",
       "      <th>605</th>\n",
       "      <td>606</td>\n",
       "      <td>138</td>\n",
       "      <td>1</td>\n",
       "      <td>1.923729e+04</td>\n",
       "      <td>2</td>\n",
       "      <td>Average Customers</td>\n",
       "    </tr>\n",
       "  </tbody>\n",
       "</table>\n",
       "<p>606 rows × 6 columns</p>\n",
       "</div>"
      ],
      "text/plain": [
       "     Customer  Recency  Frequency      Monetary  Clusters  \\\n",
       "0           1        0         16  3.783053e+05         2   \n",
       "1           2      599         71  7.880891e+05         1   \n",
       "2           3       61         21  1.971703e+05         2   \n",
       "3           4       10          2  5.261606e+03         2   \n",
       "4           5       13         34  4.511719e+07         2   \n",
       "..        ...      ...        ...           ...       ...   \n",
       "601       602       93          2  5.031661e+05         2   \n",
       "602       603      989          3  7.394068e+03         1   \n",
       "603       604        7         61  4.154070e+06         2   \n",
       "604       605      295        218  2.656159e+06         4   \n",
       "605       606      138          1  1.923729e+04         2   \n",
       "\n",
       "             Customer_Status  \n",
       "0          Average Customers  \n",
       "1        Low-value Customers  \n",
       "2          Average Customers  \n",
       "3          Average Customers  \n",
       "4          Average Customers  \n",
       "..                       ...  \n",
       "601        Average Customers  \n",
       "602      Low-value Customers  \n",
       "603        Average Customers  \n",
       "604  Above Average Customers  \n",
       "605        Average Customers  \n",
       "\n",
       "[606 rows x 6 columns]"
      ]
     },
     "execution_count": 283,
     "metadata": {},
     "output_type": "execute_result"
    }
   ],
   "source": [
    "RFM['Customer_Status'] = RFM.apply(func,axis=1)\n",
    "RFM"
   ]
  },
  {
   "cell_type": "markdown",
   "id": "a8cf6ca3",
   "metadata": {},
   "source": [
    "## Customers Associated with clusters "
   ]
  },
  {
   "cell_type": "code",
   "execution_count": 284,
   "id": "01e6908a",
   "metadata": {},
   "outputs": [
    {
     "data": {
      "text/plain": [
       "Average Customers          336\n",
       "Low-value Customers        211\n",
       "Above Average Customers     57\n",
       "High Value Customers         2\n",
       "Name: Customer_Status, dtype: int64"
      ]
     },
     "execution_count": 284,
     "metadata": {},
     "output_type": "execute_result"
    }
   ],
   "source": [
    "RFM['Customer_Status'].value_counts()"
   ]
  },
  {
   "cell_type": "code",
   "execution_count": 286,
   "id": "b90102bb",
   "metadata": {},
   "outputs": [],
   "source": [
    "High_Value_Customers = RFM[RFM['Customer_Status']=='High Value Customers']\n",
    "Above_Average_Customers = RFM[RFM['Customer_Status']=='Above Average Customers']\n",
    "Average_Customers = RFM[RFM['Customer_Status']=='Average Customers']\n",
    "Low_value_Customers = RFM[RFM['Customer_Status']=='Low-value Customers']\n",
    "\n",
    "\n",
    "data = [High_Value_Customers.shape[0],Above_Average_Customers.shape[0],Average_Customers.shape[0],Low_value_Customers.shape[0]]\n",
    "keys = ['High_Value_Customers','Above_Average_Customers','Average_Customers','Low_value_Customers']"
   ]
  },
  {
   "cell_type": "code",
   "execution_count": 287,
   "id": "7025d63d",
   "metadata": {},
   "outputs": [
    {
     "data": {
      "image/png": "[encoded data removed]",
      "text/plain": [
       "<Figure size 640x480 with 1 Axes>"
      ]
     },
     "metadata": {},
     "output_type": "display_data"
    }
   ],
   "source": [
    "palette_color = sns.color_palette('bright')\n",
    "  \n",
    "# plotting data on chart\n",
    "plt.pie(data, labels=keys, colors=palette_color,\n",
    "         autopct='%.0f%%')\n",
    "  \n",
    "# displaying chart\n",
    "plt.show()"
   ]
  },
  {
   "cell_type": "code",
   "execution_count": 290,
   "id": "13cfc85c",
   "metadata": {},
   "outputs": [
    {
     "data": {
      "image/png": "[encoded data removed]",
      "text/plain": [
       "<Figure size 640x480 with 1 Axes>"
      ]
     },
     "metadata": {},
     "output_type": "display_data"
    }
   ],
   "source": [
    "sns.countplot(y=RFM['Customer_Status']);"
   ]
  },
  {
   "cell_type": "code",
   "execution_count": 165,
   "id": "8bebf7af",
   "metadata": {},
   "outputs": [
    {
     "data": {
      "text/plain": [
       "<AxesSubplot:>"
      ]
     },
     "execution_count": 165,
     "metadata": {},
     "output_type": "execute_result"
    },
    {
     "data": {
      "image/png": "[encoded data removed]",
      "text/plain": [
       "<Figure size 640x480 with 1 Axes>"
      ]
     },
     "metadata": {},
     "output_type": "display_data"
    }
   ],
   "source": [
    "RFM['Customer_Status'].value_counts().plot(kind=\"barh\", color=[\"Orange\",\"Red\",\"Green\",'Brown'])\n"
   ]
  },
  {
   "cell_type": "markdown",
   "id": "8ac8bbad",
   "metadata": {},
   "source": [
    "## Conclusion"
   ]
  },
  {
   "cell_type": "markdown",
   "id": "df4e7770",
   "metadata": {},
   "source": [
    "### From the Above analysis from the graph we conclude that we have to concentrate for the low-value-customers which is having 35% of the customers(which is high number)"
   ]
  },
  {
   "cell_type": "code",
   "execution_count": null,
   "id": "cc7196a6",
   "metadata": {},
   "outputs": [],
   "source": []
  }
 ],
 "metadata": {
  "kernelspec": {
   "display_name": "Python 3 (ipykernel)",
   "language": "python",
   "name": "python3"
  },
  "language_info": {
   "codemirror_mode": {
    "name": "ipython",
    "version": 3
   },
   "file_extension": ".py",
   "mimetype": "text/x-python",
   "name": "python",
   "nbconvert_exporter": "python",
   "pygments_lexer": "ipython3",
   "version": "3.9.13"
  }
 },
 "nbformat": 4,
 "nbformat_minor": 5
}
